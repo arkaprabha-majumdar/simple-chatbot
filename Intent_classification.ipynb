{
  "nbformat": 4,
  "nbformat_minor": 0,
  "metadata": {
    "colab": {
      "name": "Intent classification.ipynb",
      "provenance": [],
      "collapsed_sections": []
    },
    "kernelspec": {
      "name": "python3",
      "display_name": "Python 3"
    }
  },
  "cells": [
    {
      "cell_type": "markdown",
      "metadata": {
        "id": "CCiF1zVzJz92"
      },
      "source": [
        "Name: **Arkaprabha Majumdar**\n",
        "\n",
        "Assignment submitted to: Cogno AI, AllinCall\n",
        "\n",
        "17-Nov-2020 to 19-Nov-2020"
      ]
    },
    {
      "cell_type": "markdown",
      "metadata": {
        "id": "macB64exLdj8"
      },
      "source": [
        "Let's unzip the given zip file:"
      ]
    },
    {
      "cell_type": "code",
      "metadata": {
        "id": "7lqBFleMUeKw",
        "colab": {
          "base_uri": "https://localhost:8080/"
        },
        "outputId": "67b83830-863a-4e31-87aa-10a65702f4ff"
      },
      "source": [
        "!unzip \"/content/MachineLearningContest.zip\""
      ],
      "execution_count": 1,
      "outputs": [
        {
          "output_type": "stream",
          "text": [
            "Archive:  /content/MachineLearningContest.zip\n",
            "   creating: MachineLearningContest/\n",
            "  inflating: MachineLearningContest/TestingData.xlsx  \n",
            "  inflating: MachineLearningContest/intents.json  \n"
          ],
          "name": "stdout"
        }
      ]
    },
    {
      "cell_type": "code",
      "metadata": {
        "colab": {
          "base_uri": "https://localhost:8080/"
        },
        "id": "VfxYfb-bpiFR",
        "outputId": "b5d5359a-4188-4058-fef5-ba73d2b33542"
      },
      "source": [
        "%cd MachineLearningContest/\n",
        "import pandas as pd\n",
        "import json"
      ],
      "execution_count": 2,
      "outputs": [
        {
          "output_type": "stream",
          "text": [
            "/content/MachineLearningContest\n"
          ],
          "name": "stdout"
        }
      ]
    },
    {
      "cell_type": "markdown",
      "metadata": {
        "id": "C2mCK3alLnHl"
      },
      "source": [
        "## Looking at the intents data given as json:"
      ]
    },
    {
      "cell_type": "code",
      "metadata": {
        "colab": {
          "base_uri": "https://localhost:8080/",
          "height": 195
        },
        "id": "VbgKjd75qYbj",
        "outputId": "2724bf1e-7e82-4f63-837b-8dc7f3b02916"
      },
      "source": [
        "intents_data = pd.read_json(\"intents.json\")\n",
        "intents_data.head()"
      ],
      "execution_count": 3,
      "outputs": [
        {
          "output_type": "execute_result",
          "data": {
            "text/html": [
              "<div>\n",
              "<style scoped>\n",
              "    .dataframe tbody tr th:only-of-type {\n",
              "        vertical-align: middle;\n",
              "    }\n",
              "\n",
              "    .dataframe tbody tr th {\n",
              "        vertical-align: top;\n",
              "    }\n",
              "\n",
              "    .dataframe thead th {\n",
              "        text-align: right;\n",
              "    }\n",
              "</style>\n",
              "<table border=\"1\" class=\"dataframe\">\n",
              "  <thead>\n",
              "    <tr style=\"text-align: right;\">\n",
              "      <th></th>\n",
              "      <th>id</th>\n",
              "      <th>variations</th>\n",
              "      <th>intent</th>\n",
              "    </tr>\n",
              "  </thead>\n",
              "  <tbody>\n",
              "    <tr>\n",
              "      <th>0</th>\n",
              "      <td>995</td>\n",
              "      <td>{'0': 'Is there a procedure to open AllinCall ...</td>\n",
              "      <td>Can I open AllinCall bank online?</td>\n",
              "    </tr>\n",
              "    <tr>\n",
              "      <th>1</th>\n",
              "      <td>996</td>\n",
              "      <td>{'0': 'Explain the features of AllinCall bank ...</td>\n",
              "      <td>What are the features of AllinCall bank account?</td>\n",
              "    </tr>\n",
              "    <tr>\n",
              "      <th>2</th>\n",
              "      <td>997</td>\n",
              "      <td>{'0': 'What are the features of AllinCall bank...</td>\n",
              "      <td>What are the features of AllinCall bank Video ...</td>\n",
              "    </tr>\n",
              "    <tr>\n",
              "      <th>3</th>\n",
              "      <td>998</td>\n",
              "      <td>{'0': 'Am i allowed to open a joint AllinCall ...</td>\n",
              "      <td>Can I open a joint AllinCall bank account?</td>\n",
              "    </tr>\n",
              "    <tr>\n",
              "      <th>4</th>\n",
              "      <td>999</td>\n",
              "      <td>{'0': 'I don’t have a PAN', '1': 'how to open ...</td>\n",
              "      <td>I don’t have a PAN card</td>\n",
              "    </tr>\n",
              "  </tbody>\n",
              "</table>\n",
              "</div>"
            ],
            "text/plain": [
              "    id  ...                                             intent\n",
              "0  995  ...                  Can I open AllinCall bank online?\n",
              "1  996  ...   What are the features of AllinCall bank account?\n",
              "2  997  ...  What are the features of AllinCall bank Video ...\n",
              "3  998  ...         Can I open a joint AllinCall bank account?\n",
              "4  999  ...                            I don’t have a PAN card\n",
              "\n",
              "[5 rows x 3 columns]"
            ]
          },
          "metadata": {
            "tags": []
          },
          "execution_count": 3
        }
      ]
    },
    {
      "cell_type": "markdown",
      "metadata": {
        "id": "s-0q_ADqL19N"
      },
      "source": [
        "## and the test data:"
      ]
    },
    {
      "cell_type": "code",
      "metadata": {
        "colab": {
          "base_uri": "https://localhost:8080/",
          "height": 106
        },
        "id": "OHMEZiEvr98Z",
        "outputId": "2209ca38-14cc-44c6-b5b4-6b77518be4c6"
      },
      "source": [
        "test_data = pd.read_excel(\"TestingData.xlsx\")\n",
        "test_data.head(2)"
      ],
      "execution_count": 174,
      "outputs": [
        {
          "output_type": "execute_result",
          "data": {
            "text/html": [
              "<div>\n",
              "<style scoped>\n",
              "    .dataframe tbody tr th:only-of-type {\n",
              "        vertical-align: middle;\n",
              "    }\n",
              "\n",
              "    .dataframe tbody tr th {\n",
              "        vertical-align: top;\n",
              "    }\n",
              "\n",
              "    .dataframe thead th {\n",
              "        text-align: right;\n",
              "    }\n",
              "</style>\n",
              "<table border=\"1\" class=\"dataframe\">\n",
              "  <thead>\n",
              "    <tr style=\"text-align: right;\">\n",
              "      <th></th>\n",
              "      <th>Test user queries</th>\n",
              "    </tr>\n",
              "  </thead>\n",
              "  <tbody>\n",
              "    <tr>\n",
              "      <th>0</th>\n",
              "      <td>My money deduct my account but not credit</td>\n",
              "    </tr>\n",
              "    <tr>\n",
              "      <th>1</th>\n",
              "      <td>passbook delivery courier</td>\n",
              "    </tr>\n",
              "  </tbody>\n",
              "</table>\n",
              "</div>"
            ],
            "text/plain": [
              "                           Test user queries\n",
              "0  My money deduct my account but not credit\n",
              "1                  passbook delivery courier"
            ]
          },
          "metadata": {
            "tags": []
          },
          "execution_count": 174
        }
      ]
    },
    {
      "cell_type": "markdown",
      "metadata": {
        "id": "irNhSuWg34qH"
      },
      "source": [
        "## Note:\n",
        "“Specific Intent” class is denoted by the ID of the intent that is matched to the test\n",
        "user query.\n",
        "\n",
        "“Suggestion” class is denoted by the integer “1”\n",
        "\n",
        "“Failure message” class is denoted by the integer “2”"
      ]
    },
    {
      "cell_type": "markdown",
      "metadata": {
        "id": "Vl6nrv7fL9HB"
      },
      "source": [
        "## Dividing the query column into individual rows:"
      ]
    },
    {
      "cell_type": "code",
      "metadata": {
        "id": "H1qeldFq5k6z"
      },
      "source": [
        "id_rows = []\n",
        "keys = []\n",
        "values = []\n",
        "intent = []\n",
        "for row in range(intents_data.shape[0]):\n",
        "  for key in intents_data['variations'][row].keys():\n",
        "    id_rows.append(intents_data[\"id\"][row])\n",
        "    keys.append(key)\n",
        "    values.append(intents_data['variations'][row][key])\n",
        "    intent.append(intents_data['intent'][row])"
      ],
      "execution_count": 9,
      "outputs": []
    },
    {
      "cell_type": "code",
      "metadata": {
        "id": "gJoFxE2h-Lf2"
      },
      "source": [
        "df = pd.DataFrame({\"id\":id_rows,\"query_key\":keys,\"query_val\":values,\"intent\":intent})\n",
        "df_indexed = df.groupby('id').first()"
      ],
      "execution_count": 152,
      "outputs": []
    },
    {
      "cell_type": "code",
      "metadata": {
        "colab": {
          "base_uri": "https://localhost:8080/",
          "height": 402
        },
        "id": "O4ty_eW_-1Jt",
        "outputId": "db287511-19ed-41ed-998c-d945fddbe076"
      },
      "source": [
        "df"
      ],
      "execution_count": 162,
      "outputs": [
        {
          "output_type": "execute_result",
          "data": {
            "text/html": [
              "<div>\n",
              "<style scoped>\n",
              "    .dataframe tbody tr th:only-of-type {\n",
              "        vertical-align: middle;\n",
              "    }\n",
              "\n",
              "    .dataframe tbody tr th {\n",
              "        vertical-align: top;\n",
              "    }\n",
              "\n",
              "    .dataframe thead th {\n",
              "        text-align: right;\n",
              "    }\n",
              "</style>\n",
              "<table border=\"1\" class=\"dataframe\">\n",
              "  <thead>\n",
              "    <tr style=\"text-align: right;\">\n",
              "      <th></th>\n",
              "      <th>id</th>\n",
              "      <th>query_key</th>\n",
              "      <th>query_val</th>\n",
              "      <th>intent</th>\n",
              "    </tr>\n",
              "  </thead>\n",
              "  <tbody>\n",
              "    <tr>\n",
              "      <th>0</th>\n",
              "      <td>995</td>\n",
              "      <td>0</td>\n",
              "      <td>Is there a procedure to open AllinCall bank on...</td>\n",
              "      <td>Can I open AllinCall bank online?</td>\n",
              "    </tr>\n",
              "    <tr>\n",
              "      <th>1</th>\n",
              "      <td>995</td>\n",
              "      <td>1</td>\n",
              "      <td>How to open AllinCall bank online</td>\n",
              "      <td>Can I open AllinCall bank online?</td>\n",
              "    </tr>\n",
              "    <tr>\n",
              "      <th>2</th>\n",
              "      <td>995</td>\n",
              "      <td>2</td>\n",
              "      <td>Can I open AllinCall bank online?</td>\n",
              "      <td>Can I open AllinCall bank online?</td>\n",
              "    </tr>\n",
              "    <tr>\n",
              "      <th>3</th>\n",
              "      <td>996</td>\n",
              "      <td>0</td>\n",
              "      <td>Explain the features of AllinCall bank account</td>\n",
              "      <td>What are the features of AllinCall bank account?</td>\n",
              "    </tr>\n",
              "    <tr>\n",
              "      <th>4</th>\n",
              "      <td>996</td>\n",
              "      <td>1</td>\n",
              "      <td>Tellme about the features of AllinCall bank ac...</td>\n",
              "      <td>What are the features of AllinCall bank account?</td>\n",
              "    </tr>\n",
              "    <tr>\n",
              "      <th>...</th>\n",
              "      <td>...</td>\n",
              "      <td>...</td>\n",
              "      <td>...</td>\n",
              "      <td>...</td>\n",
              "    </tr>\n",
              "    <tr>\n",
              "      <th>1558</th>\n",
              "      <td>1002</td>\n",
              "      <td>9</td>\n",
              "      <td>minimum balance update my ac</td>\n",
              "      <td>What is the average monthly balance (AMB)?</td>\n",
              "    </tr>\n",
              "    <tr>\n",
              "      <th>1559</th>\n",
              "      <td>1010</td>\n",
              "      <td>0</td>\n",
              "      <td>What are the Documents required to open AllinC...</td>\n",
              "      <td>Documents for AllinCall bank</td>\n",
              "    </tr>\n",
              "    <tr>\n",
              "      <th>1560</th>\n",
              "      <td>1010</td>\n",
              "      <td>1</td>\n",
              "      <td>How to open AllinCall? What is needed along?</td>\n",
              "      <td>Documents for AllinCall bank</td>\n",
              "    </tr>\n",
              "    <tr>\n",
              "      <th>1561</th>\n",
              "      <td>1010</td>\n",
              "      <td>2</td>\n",
              "      <td>Tell me about the Documents needed to open All...</td>\n",
              "      <td>Documents for AllinCall bank</td>\n",
              "    </tr>\n",
              "    <tr>\n",
              "      <th>1562</th>\n",
              "      <td>1010</td>\n",
              "      <td>3</td>\n",
              "      <td>Documents for AllinCall bank</td>\n",
              "      <td>Documents for AllinCall bank</td>\n",
              "    </tr>\n",
              "  </tbody>\n",
              "</table>\n",
              "<p>1563 rows × 4 columns</p>\n",
              "</div>"
            ],
            "text/plain": [
              "        id  ...                                            intent\n",
              "0      995  ...                 Can I open AllinCall bank online?\n",
              "1      995  ...                 Can I open AllinCall bank online?\n",
              "2      995  ...                 Can I open AllinCall bank online?\n",
              "3      996  ...  What are the features of AllinCall bank account?\n",
              "4      996  ...  What are the features of AllinCall bank account?\n",
              "...    ...  ...                                               ...\n",
              "1558  1002  ...        What is the average monthly balance (AMB)?\n",
              "1559  1010  ...                      Documents for AllinCall bank\n",
              "1560  1010  ...                      Documents for AllinCall bank\n",
              "1561  1010  ...                      Documents for AllinCall bank\n",
              "1562  1010  ...                      Documents for AllinCall bank\n",
              "\n",
              "[1563 rows x 4 columns]"
            ]
          },
          "metadata": {
            "tags": []
          },
          "execution_count": 162
        }
      ]
    },
    {
      "cell_type": "markdown",
      "metadata": {
        "id": "o918z_M5MjR9"
      },
      "source": [
        "## Let's label encode the \"intent\" column"
      ]
    },
    {
      "cell_type": "code",
      "metadata": {
        "id": "GPOUpBi5_XOE"
      },
      "source": [
        "from sklearn import preprocessing \n",
        "label_encoder = preprocessing.LabelEncoder()"
      ],
      "execution_count": 185,
      "outputs": []
    },
    {
      "cell_type": "code",
      "metadata": {
        "id": "wliB7GiuAPtv"
      },
      "source": [
        "df[\"intent_num\"] = label_encoder.fit_transform(df['intent'])"
      ],
      "execution_count": 12,
      "outputs": []
    },
    {
      "cell_type": "markdown",
      "metadata": {
        "id": "G8ylHHMwNG23"
      },
      "source": [
        "I used a simple tfidf vectorizer to convert the query inputs to numeric."
      ]
    },
    {
      "cell_type": "code",
      "metadata": {
        "colab": {
          "base_uri": "https://localhost:8080/"
        },
        "id": "isEJ5zdPEQOS",
        "outputId": "a20c946f-1ae0-4a49-911b-b13eafb5e820"
      },
      "source": [
        "from sklearn.feature_extraction.text import TfidfVectorizer\n",
        "\n",
        "Tfd = TfidfVectorizer(stop_words=\"english\",max_df=0.7)\n",
        "Tfd_train=Tfd.fit_transform(df['query_val'])\n",
        "\n",
        "print(Tfd.get_feature_names())"
      ],
      "execution_count": 16,
      "outputs": [
        {
          "output_type": "stream",
          "text": [
            "['aadhaar', 'aadhar', 'able', 'aboout', 'ac', 'accident', 'account', 'activate', 'activated', 'active', 'activity', 'add', 'address', 'advantages', 'allincall', 'allowed', 'allows', 'alowed', 'amazing', 'amb', 'annual', 'answer', 'app', 'application', 'applied', 'apply', 'applying', 'appointment', 'approved', 'approver', 'asking', 'atm', 'auto', 'autopay', 'autosweep', 'avail', 'available', 'average', 'away', 'awesome', 'bad', 'balance', 'bank', 'banking', 'benefits', 'billers', 'billpay', 'bills', 'birth', 'block', 'blocked', 'bond', 'bonds', 'book', 'booking', 'bot', 'bound', 'branch', 'browser', 'bye', 'byee', 'byeee', 'byeeee', 'came', 'cancel', 'card', 'carry', 'case', 'cash', 'cd', 'change', 'charge', 'charged', 'charges', 'cheat', 'check', 'checkboook', 'checker', 'checking', 'cheque', 'chequebook', 'clarify', 'close', 'closed', 'cnr', 'code', 'collateral', 'collect', 'coming', 'communication', 'complete', 'completed', 'completing', 'compulsory', 'confused', 'connection', 'consent', 'consumer', 'contact', 'cost', 'create', 'credit', 'credited', 'crn', 'current', 'cvv', 'cya', 'date', 'days', 'deactivate', 'debit', 'debited', 'debiting', 'debt', 'deception', 'declaration', 'deduct', 'deducted', 'define', 'demand', 'demat', 'deposit', 'deposited', 'detailed', 'details', 'did', 'didn', 'didnt', 'difference', 'different', 'difficulty', 'digital', 'disable', 'district', 'documents', 'does', 'doing', 'don', 'dont', 'download', 'draft', 'dreamdifferent', 'dropped', 'dth', 'duplicity', 'duration', 'earlier', 'edge', 'elaborate', 'electricity', 'email', 'employee', 'entities', 'error', 'estatement', 'excellent', 'experience', 'explain', 'expoan', 'facility', 'fantastic', 'fatca', 'fd', 'features', 'fee', 'fees', 'fetaures', 'finance', 'fixed', 'fkyc', 'folio', 'foreclose', 'forgot', 'forgotten', 'frame', 'fraud', 'fraudulent', 'free', 'freeze', 'frozen', 'fund', 'funding', 'funds', 'gets', 'getting', 'given', 'going', 'gold', 'good', 'goodbye', 'got', 'group', 'guide', 'happened', 'haven', 'helful', 'hello', 'helloo', 'hellooo', 'help', 'helpful', 'hey', 'hi', 'hii', 'hiii', 'hiiii', 'history', 'hoax', 'home', 'horrible', 'id', 'ifsc', 'im', 'image', 'important', 'imps', 'imt', 'income', 'increase', 'india', 'information', 'initiate', 'installment', 'insurance', 'international', 'invest', 'investing', 'investment', 'investments', 'issues', 'joint', 'joke', 'journey', 'just', 'kidding', 'kind', 'kindly', 'know', 'kyc', 'larceny', 'legit', 'let', 'life', 'like', 'limit', 'limitations', 'limited', 'limits', 'link', 'list', 'lite', 'loan', 'loans', 'location', 'locked', 'login', 'long', 'lost', 'low', 'maintain', 'maintenance', 'make', 'maker', 'mandatory', 'marry', 'maturity', 'mb', 'mean', 'meaning', 'meant', 'medium', 'method', 'mf', 'middle', 'minimum', 'miserable', 'misplaced', 'mobile', 'money', 'monthly', 'mpin', 'mutual', 'nearest', 'necessary', 'necessay', 'necessity', 'need', 'needed', 'needs', 'neft', 'net', 'netflix', 'new', 'nice', 'nominee', 'normal', 'notice', 'number', 'numbers', 'offers', 'online', 'open', 'opened', 'opening', 'opt', 'optin', 'option', 'optout', 'outside', 'outstanding', 'oversees', 'package', 'paid', 'pan', 'passbook', 'password', 'pathetic', 'pay', 'payment', 'payments', 'pdc', 'pep', 'perfect', 'perform', 'performing', 'period', 'phone', 'physical', 'pin', 'pl', 'place', 'plan', 'poen', 'points', 'policy', 'possible', 'post', 'pre', 'premium', 'prepaid', 'prime', 'priority', 'problems', 'procedure', 'process', 'processing', 'proess', 'profile', 'proof', 'pros', 'protect', 'provide', 'provision', 'queries', 'query', 'rate', 'rates', 'ratio', 'rd', 'reach', 'receive', 'received', 'recent', 'recharge', 'recieve', 'recover', 'recurring', 'redeem', 'redeeming', 'reflect', 'related', 'replace', 'replacement', 'report', 'representative', 'request', 'require', 'required', 'requirement', 'reset', 'restart', 'restricted', 'robbed', 'saving', 'savings', 'saying', 'says', 'scam', 'score', 'secure', 'set', 'share', 'shop', 'sip', 'smart', 'solution', 'soon', 'sovereign', 'specify', 'start', 'statement', 'statements', 'status', 'steal', 'steps', 'stole', 'stolen', 'stop', 'suggest', 'summary', 'sweep', 'sweepin', 'switched', 'systematic', 'tada', 'taken', 'takes', 'tell', 'tellme', 'term', 'thank', 'theft', 'things', 'throught', 'time', 'today', 'track', 'transaction', 'transactions', 'transfer', 'type', 'unable', 'unblock', 'understand', 'unhelpful', 'update', 'upgrade', 'upi', 'urgent', 'use', 'user', 'using', 'vary', 'vdc', 'video', 'vidoeo', 'view', 'virtual', 'visa', 'visit', 'visited', 'vpa', 'want', 'waste', 'ways', 'wish', 'withdraw', 'withdrawal', 'wonderful', 'work', 'working', 'ya', 'yo']\n"
          ],
          "name": "stdout"
        }
      ]
    },
    {
      "cell_type": "code",
      "metadata": {
        "colab": {
          "base_uri": "https://localhost:8080/"
        },
        "id": "auTVXxgWEZAc",
        "outputId": "07f2f593-1d4b-427b-af6f-dc47548b8b61"
      },
      "source": [
        "print(Tfd.transform([test_data['Test user queries'][5]]))"
      ],
      "execution_count": 17,
      "outputs": [
        {
          "output_type": "stream",
          "text": [
            "  (0, 237)\t0.22244933447431223\n",
            "  (0, 103)\t0.3591019276529166\n",
            "  (0, 7)\t0.906400628391163\n"
          ],
          "name": "stdout"
        }
      ]
    },
    {
      "cell_type": "code",
      "metadata": {
        "colab": {
          "base_uri": "https://localhost:8080/"
        },
        "id": "YVAY6JsZQlg6",
        "outputId": "45bd85bb-a349-44bb-9b6b-09f1d9c44af8"
      },
      "source": [
        "from sklearn.metrics.pairwise import cosine_similarity\n",
        "sorted(cosine_similarity(Tfd.transform([test_data['Test user queries'][5]]),Tfd_train)[0])[-5:]"
      ],
      "execution_count": 18,
      "outputs": [
        {
          "output_type": "execute_result",
          "data": {
            "text/plain": [
              "[0.3591019276529166,\n",
              " 0.36922412526051407,\n",
              " 0.5479593454072793,\n",
              " 0.5735595046801804,\n",
              " 0.8471627976586104]"
            ]
          },
          "metadata": {
            "tags": []
          },
          "execution_count": 18
        }
      ]
    },
    {
      "cell_type": "markdown",
      "metadata": {
        "id": "aq2cQF-LNfPS"
      },
      "source": [
        "# Procedure\n",
        "Next, I'm ready to predict on the test queries. The procedure I followed is:\n",
        "- first vectorize the test query\n",
        "- apply cosine similarity\n",
        "  - if similarity=0, then it's a failure. So we add \"2\".\n",
        "  - if similarity=1, then it's a specific intent. So we simply add the id of that intent\n",
        "  - if none of the above, then I sorted the similarities if the similarity>0.5 and add those IDs"
      ]
    },
    {
      "cell_type": "code",
      "metadata": {
        "colab": {
          "base_uri": "https://localhost:8080/"
        },
        "id": "K9yUqVDZWMeH",
        "outputId": "05a92e60-b8ae-4485-f485-9a24e07ab4ca"
      },
      "source": [
        "cosine_val = []\n",
        "result = []\n",
        "for i,query in enumerate(test_data['Test user queries']):\n",
        "  sug = str(i)+\",\"\n",
        "  sim_arr = cosine_similarity(Tfd.transform([query]),Tfd_train)[0] #similarity array\n",
        "  tmp_ix = [x for x in range(len(sim_arr))]\n",
        "  cosine_val.append(sorted(zip(sim_arr, tmp_ix), reverse=True)[:3])\n",
        "  if cosine_val[i][0][0] == 0.0:\n",
        "    sug+='2'\n",
        "  elif cosine_val[i][0][0] == 1.0:\n",
        "    sug+=str(cosine_val[i][0][1])\n",
        "  else:\n",
        "    sug+=\"1,\"\n",
        "    for tupple in cosine_val[i]:\n",
        "      string_list_suggestions=[]\n",
        "      if tupple[0]>.5:\n",
        "        sug+=str(tupple[1])+','\n",
        "    sug = sug[:-1]\n",
        "  print(sug)\n",
        "  result.append(sug)"
      ],
      "execution_count": 184,
      "outputs": [
        {
          "output_type": "stream",
          "text": [
            "0,1,1161\n",
            "1,1,1495,1497,1493\n",
            "2,2\n",
            "3,2\n",
            "4,1,1331,1358,1357\n",
            "5,1,413,411,412\n",
            "6,1,1460,1459,1454\n",
            "7,1,1484,1373\n",
            "8,1,507,95,501\n",
            "9,1,1242,491,927\n",
            "10,1,88,0,372\n",
            "11,1,173,140,211\n",
            "12,1\n",
            "13,1,286,279,719\n",
            "14,1,1488,1487,1485\n",
            "15,1,223\n",
            "16,1268\n",
            "17,1,400,399,409\n",
            "18,1,222,1217\n",
            "19,496\n",
            "20,1,1011,1004,1008\n",
            "21,1\n",
            "22,1,496,489,37\n",
            "23,1,1176,491,552\n",
            "24,1,211,177,176\n",
            "25,2\n",
            "26,1,1443,1442,1437\n",
            "27,1,1372,1374,1373\n",
            "28,1,1443,1442,1437\n",
            "29,1,1481,1477,483\n",
            "30,564\n",
            "31,1,1490,490,547\n",
            "32,1,47,42,45\n",
            "33,1,1210,1208,136\n",
            "34,1,220,219,217\n",
            "35,1,196\n",
            "36,1\n",
            "37,1,551,1135,1128\n",
            "38,1\n",
            "39,1,1460,1459,1454\n",
            "40,1\n",
            "41,1,593\n",
            "42,2\n",
            "43,1,1287,1486,1488\n",
            "44,1,895\n",
            "45,1,784,777,902\n",
            "46,1\n",
            "47,1,1372,1323\n",
            "48,1,1268,1267,1254\n",
            "49,1416\n",
            "50,2\n",
            "51,1,661,663\n",
            "52,1,256,1313,1312\n",
            "53,1,167,175,254\n",
            "54,1\n",
            "55,1,1460,1459,1454\n",
            "56,1\n",
            "57,1\n",
            "58,1,413,411,412\n",
            "59,1,1293,1490,167\n",
            "60,2\n",
            "61,1,1242,491,927\n",
            "62,1\n",
            "63,1,604\n",
            "64,1,1011,1004,1008\n",
            "65,1,173,140,211\n",
            "66,1,88,0,372\n",
            "67,1,1373,1484\n",
            "68,1,496,489,37\n",
            "69,1,400,399,409\n",
            "70,1,222,221\n",
            "71,1,1176,491,552\n",
            "72,1,211,177,176\n",
            "73,1,286,279,719\n",
            "74,1,1323,1329,1326\n",
            "75,1,1443,1442,1437\n",
            "76,1,1488,1487,1485\n",
            "77,496\n",
            "78,496\n",
            "79,1\n",
            "80,2\n",
            "81,2\n",
            "82,2\n",
            "83,1,1274,1272,1271\n",
            "84,1,413\n",
            "85,642\n",
            "86,1,355,351,350\n",
            "87,1,1268,1267,1254\n",
            "88,1,1474,1476,1473\n",
            "89,1,1193\n",
            "90,1,875,869,865\n",
            "91,1,351,350,347\n",
            "92,1,1413,7,1242\n",
            "93,1,137,134,136\n",
            "94,1,552,122,1460\n",
            "95,1,1472,1471,1054\n",
            "96,1,1242,927,1240\n",
            "97,1,220,219,217\n",
            "98,1\n",
            "99,1,1495,1494,1497\n",
            "100,1,460,459,456\n",
            "101,1,228\n",
            "102,1,1210,1208,351\n",
            "103,1,1055,1293,765\n",
            "104,1,167,175,254\n",
            "105,2\n",
            "106,2\n",
            "107,1,422,1264\n",
            "108,2\n",
            "109,1\n",
            "110,1,460,459,456\n",
            "111,1413\n",
            "112,1,99\n",
            "113,496\n",
            "114,1,1413,1239,91\n",
            "115,1,1176,491,1268\n",
            "116,1,354,1182,353\n",
            "117,1,1055,1293,765\n",
            "118,1,1240,1241,593\n",
            "119,1,1502\n",
            "120,1,460,459,456\n",
            "121,1,1460,1459,1454\n",
            "122,2\n",
            "123,1,1360,1413\n",
            "124,1,196\n",
            "125,1,386\n",
            "126,1,232\n",
            "127,496\n",
            "128,2\n",
            "129,1,310,303,307\n",
            "130,1,310,303,307\n",
            "131,1,1203,394,1455\n",
            "132,1,604\n",
            "133,1,1545\n",
            "134,1,460,459,456\n",
            "135,1\n",
            "136,1268\n",
            "137,1,1495,1494,1497\n",
            "138,1176\n",
            "139,1,1562,1268,1267\n",
            "140,1,413,411\n",
            "141,1,386,380,376\n",
            "142,1,263\n",
            "143,1,1502\n",
            "144,1,1502\n",
            "145,1,220,219,217\n",
            "146,1,1210,1208,351\n",
            "147,1,1495,422,1497\n",
            "148,1,398,397,401\n",
            "149,1268\n",
            "150,2\n",
            "151,1,1460,1459,1454\n",
            "152,1,1491,1285,1282\n",
            "153,1,1242,927,1240\n",
            "154,1,460,459,456\n",
            "155,1,137,134,136\n",
            "156,1,1210,1208\n",
            "157,1,1402,1398\n",
            "158,1,1210,1208,351\n",
            "159,1,604\n",
            "160,1,286,279,719\n",
            "161,1,1055,1293,765\n",
            "162,1,412,1295,1292\n"
          ],
          "name": "stdout"
        }
      ]
    },
    {
      "cell_type": "markdown",
      "metadata": {
        "id": "AzwwM-HPPEB1"
      },
      "source": [
        "However, these IDs are not from the original dataset, since we had divided the variations column.\n",
        "\n",
        "So we need to fetch the actual ids based on these:\n",
        "- keep the other data same\n",
        "- if the id is \"1\"( i.e, suggestions ) , then we fetch the real intent IDs."
      ]
    },
    {
      "cell_type": "code",
      "metadata": {
        "colab": {
          "base_uri": "https://localhost:8080/"
        },
        "id": "Ri_pmgcks0_T",
        "outputId": "9be40880-87ea-4aa5-b938-48237a392fde"
      },
      "source": [
        "res_final = []\n",
        "for each in result:\n",
        "  if each.split(\",\")[1] == '1':\n",
        "    tmp = each.split(\",\")\n",
        "    temp_list = []\n",
        "    an_list = []\n",
        "    for suggestion in tmp[2:]:\n",
        "      if df[\"id\"][int(suggestion)] not in temp_list:\n",
        "        print(df[\"intent\"][int(suggestion)])\n",
        "        temp_list.append(df[\"id\"][int(suggestion)])\n",
        "    for item in list(set(temp_list)):\n",
        "      an_list.append(item)\n",
        "    print(tmp[:2]+an_list)\n",
        "    res_final.append(\",\".join(str(x) for x in tmp[:2]+an_list))\n",
        "  else:\n",
        "    res_final.append(each)"
      ],
      "execution_count": 167,
      "outputs": [
        {
          "output_type": "stream",
          "text": [
            "Why money is getting deducted from account?\n",
            "['0', '1', 1150]\n",
            "How to apply for passbook?\n",
            "['1', '1', 1218]\n",
            "My account got blocked\n",
            "My debit card was stolen\n",
            "['4', '1', 1180, 1182]\n",
            "I want to activate my account when will it be activated?\n",
            "['5', '1', 1068]\n",
            "How to Apply for Debit Card?\n",
            "['6', '1', 1203]\n",
            "Where can I get my account statement?\n",
            "Fraud\n",
            "['7', '1', 1208, 1183]\n",
            "what do I do after opening AllinCall?\n",
            "How to open AllinCall?\n",
            "['8', '1', 1009, 1082]\n",
            "Open AllinCall\n",
            "How can I see my account?\n",
            "Can I open investment account and how can I open an investment account through my AllinCall bank bank account?\n",
            "['9', '1', 1169, 1126, 1081]\n",
            "How to open AllinCall?\n",
            "Can I open AllinCall bank online?\n",
            "How to open Video KYC account?\n",
            "['10', '1', 1009, 1161, 995]\n",
            "I haven't yet received a debit card with my AllinCall bank account? When will I receive a debit card?\n",
            "Where will I receive my physical debit card?\n",
            "I received my debit card. How do I know if it is active or not?\n",
            "['11', '1', 1038, 1030, 1022]\n",
            "['12', '1']\n",
            "Why do I need MPIN?\n",
            "What documents do I need to book an FD?\n",
            "['13', '1', 1105, 1051]\n",
            "How can I Add money/transfer money to AllinCall bank Account?\n",
            "['14', '1', 1209]\n",
            "How can I check the status of my physical debit card application?\n",
            "['15', '1', 1039]\n",
            "How to update my name in AllinCall bank account?\n",
            "How to update my date of birth in AllinCall bank account?\n",
            "['17', '1', 1064, 1065]\n",
            "How can I check the status of my physical debit card application?\n",
            "Where can I See my account details?\n",
            "['18', '1', 1157, 1039]\n",
            "How can I apply for life insurance?\n",
            "['20', '1', 1134]\n",
            "['21', '1']\n",
            "How can I see my account?\n",
            "I don’t have a PAN card\n",
            "['22', '1', 1081, 999]\n",
            "How can I complete my Full KYC\n",
            "How can I see my account?\n",
            "What is AllinCall bank DreamDifferent Credit card?\n",
            "['23', '1', 1153, 1086, 1081]\n",
            "I received my debit card. How do I know if it is active or not?\n",
            "I haven't yet received a debit card with my AllinCall bank account? When will I receive a debit card?\n",
            "['24', '1', 1038, 1030]\n",
            "Where can see my account balance & transactions?\n",
            "['26', '1', 1201]\n",
            "Fraud\n",
            "['27', '1', 1183]\n",
            "Where can see my account balance & transactions?\n",
            "['28', '1', 1201]\n",
            "Where can I get my account statement?\n",
            "How to I see my account statements through app?\n",
            "['29', '1', 1208, 1079]\n",
            "How can I Add money/transfer money to AllinCall bank Account?\n",
            "How can I see my account?\n",
            "What is AllinCall bank DreamDifferent Credit card?\n",
            "['31', '1', 1209, 1086, 1081]\n",
            "Fees and charges for AllinCall bank account\n",
            "['32', '1', 1001]\n",
            "Where can I See my account details?\n",
            "Where can I see the CVV number of my AllinCall bank virtual debit card?\n",
            "['33', '1', 1021, 1157]\n",
            "How can I check the status of my physical debit card application?\n",
            "['34', '1', 1039]\n",
            "How can I set the PIN of my debit card?\n",
            "['35', '1', 1036]\n",
            "['36', '1']\n",
            "What is AllinCall bank DreamDifferent Credit card?\n",
            "Do I need to book an FD to apply for AllinCall bank #DreamDifferent Credit Card?\n",
            "['37', '1', 1147, 1086]\n",
            "['38', '1']\n",
            "How to Apply for Debit Card?\n",
            "['39', '1', 1203]\n",
            "['40', '1']\n",
            "Can I recharge my phone through my AllinCall account? How can I do mobile recharge online through mobile bank app?\n",
            "['41', '1', 1091]\n",
            "How do I do fund transfer\n",
            "How can I Add money/transfer money to AllinCall bank Account?\n",
            "['43', '1', 1209, 1174]\n",
            "What are the features of AllinCall Gold Loan?\n",
            "['44', '1', 1123]\n",
            "How can I apply for AllinCall Gold Loan?\n",
            "What are the features of AllinCall Gold Loan?\n",
            "['45', '1', 1122, 1123]\n",
            "['46', '1']\n",
            "Fraud\n",
            "My account got blocked\n",
            "['47', '1', 1180, 1183]\n",
            "What is Full KYC?\n",
            "['48', '1', 1171]\n",
            "My communication address is different from my Aadhaar address. Can I carry out the video KYC process?\n",
            "['51', '1', 1162]\n",
            "How can I withdraw money without debit card\n",
            "What is the limit for atm cash withdrawal in AllinCall bank account?\n",
            "['52', '1', 1178, 1047]\n",
            "How can I apply for physical debit card?\n",
            "I haven't yet received a debit card with my AllinCall bank account? When will I receive a debit card?\n",
            "How can I withdraw money without debit card\n",
            "['53', '1', 1028, 1030, 1047]\n",
            "['54', '1']\n",
            "How to Apply for Debit Card?\n",
            "['55', '1', 1203]\n",
            "['56', '1']\n",
            "['57', '1']\n",
            "I want to activate my account when will it be activated?\n",
            "['58', '1', 1068]\n",
            "How to apply for chequebook?\n",
            "How can I Add money/transfer money to AllinCall bank Account?\n",
            "How can I apply for physical debit card?\n",
            "['59', '1', 1209, 1028, 1175]\n",
            "Open AllinCall\n",
            "How can I see my account?\n",
            "Can I open investment account and how can I open an investment account through my AllinCall bank bank account?\n",
            "['61', '1', 1169, 1126, 1081]\n",
            "['62', '1']\n",
            "Why can't I do Video KYC?\n",
            "['63', '1', 1165]\n",
            "How can I apply for life insurance?\n",
            "['64', '1', 1134]\n",
            "I haven't yet received a debit card with my AllinCall bank account? When will I receive a debit card?\n",
            "Where will I receive my physical debit card?\n",
            "I received my debit card. How do I know if it is active or not?\n",
            "['65', '1', 1038, 1030, 1022]\n",
            "How to open AllinCall?\n",
            "Can I open AllinCall bank online?\n",
            "How to open Video KYC account?\n",
            "['66', '1', 1009, 1161, 995]\n",
            "Fraud\n",
            "Where can I get my account statement?\n",
            "['67', '1', 1208, 1183]\n",
            "How can I see my account?\n",
            "I don’t have a PAN card\n",
            "['68', '1', 1081, 999]\n",
            "How to update my name in AllinCall bank account?\n",
            "How to update my date of birth in AllinCall bank account?\n",
            "['69', '1', 1064, 1065]\n",
            "How can I check the status of my physical debit card application?\n",
            "['70', '1', 1039]\n",
            "How can I complete my Full KYC\n",
            "How can I see my account?\n",
            "What is AllinCall bank DreamDifferent Credit card?\n",
            "['71', '1', 1153, 1086, 1081]\n",
            "I received my debit card. How do I know if it is active or not?\n",
            "I haven't yet received a debit card with my AllinCall bank account? When will I receive a debit card?\n",
            "['72', '1', 1038, 1030]\n",
            "Why do I need MPIN?\n",
            "What documents do I need to book an FD?\n",
            "['73', '1', 1105, 1051]\n",
            "My account got blocked\n",
            "['74', '1', 1180]\n",
            "Where can see my account balance & transactions?\n",
            "['75', '1', 1201]\n",
            "How can I Add money/transfer money to AllinCall bank Account?\n",
            "['76', '1', 1209]\n",
            "['79', '1']\n",
            "What are the benefits of Full KYC?\n",
            "['83', '1', 1172]\n",
            "I want to activate my account when will it be activated?\n",
            "['84', '1', 1068]\n",
            "How do I change my Mobile number?\n",
            "['86', '1', 1059]\n",
            "What is Full KYC?\n",
            "['87', '1', 1171]\n",
            "Where is nearest branch or ATM\n",
            "['88', '1', 1207]\n",
            "No one came for Full KYC\n",
            "['89', '1', 1154]\n",
            "What is the rate of interest of Sovereign Gold Bonds and how will the interest be paid?\n",
            "['90', '1', 1118]\n",
            "How do I change my Mobile number?\n",
            "['91', '1', 1059]\n",
            "What is AllinCall bank?\n",
            "What are the features of AllinCall bank account?\n",
            "Open AllinCall\n",
            "['92', '1', 1169, 1188, 996]\n",
            "Where can I see the CVV number of my AllinCall bank virtual debit card?\n",
            "['93', '1', 1021]\n",
            "What is AllinCall bank DreamDifferent Credit card?\n",
            "What's the difference between virtual debit card card and physical debit card?\n",
            "How to Apply for Debit Card?\n",
            "['94', '1', 1018, 1203, 1086]\n",
            "Start\n",
            "How can I open Recurring Deposit?\n",
            "['95', '1', 1139, 1205]\n",
            "Open AllinCall\n",
            "Can I open investment account and how can I open an investment account through my AllinCall bank bank account?\n",
            "['96', '1', 1169, 1126]\n",
            "How can I check the status of my physical debit card application?\n",
            "['97', '1', 1039]\n",
            "['98', '1']\n",
            "How to apply for passbook?\n",
            "['99', '1', 1218]\n",
            "How do I login?\n",
            "['100', '1', 1075]\n",
            "How many days will it take for the physical debit card to reach my communication address?\n",
            "['101', '1', 1043]\n",
            "Where can I See my account details?\n",
            "How do I change my Mobile number?\n",
            "['102', '1', 1059, 1157]\n",
            "How can I open Recurring Deposit?\n",
            "How to apply for chequebook?\n",
            "Why should I book an Fixed Deposit?\n",
            "['103', '1', 1139, 1109, 1175]\n",
            "How can I apply for physical debit card?\n",
            "I haven't yet received a debit card with my AllinCall bank account? When will I receive a debit card?\n",
            "How can I withdraw money without debit card\n",
            "['104', '1', 1028, 1030, 1047]\n",
            "Why my account is under freeze?\n",
            "What is Full KYC?\n",
            "['107', '1', 1171, 1069]\n",
            "['109', '1']\n",
            "How do I login?\n",
            "['110', '1', 1075]\n",
            "Do I need physical PAN card for Video KYC?\n",
            "['112', '1', 1013]\n",
            "What is AllinCall bank?\n",
            "Open AllinCall\n",
            "How to open AllinCall?\n",
            "['114', '1', 1169, 1188, 1009]\n",
            "How can I complete my Full KYC\n",
            "How can I see my account?\n",
            "What is Full KYC?\n",
            "['115', '1', 1153, 1171, 1081]\n",
            "How do I change my Mobile number?\n",
            "No one came for Full KYC\n",
            "['116', '1', 1154, 1059]\n",
            "How can I open Recurring Deposit?\n",
            "How to apply for chequebook?\n",
            "Why should I book an Fixed Deposit?\n",
            "['117', '1', 1139, 1109, 1175]\n",
            "Open AllinCall\n",
            "Can I recharge my phone through my AllinCall account? How can I do mobile recharge online through mobile bank app?\n",
            "['118', '1', 1169, 1091]\n",
            "Unhelpful\n",
            "['119', '1', 1219]\n",
            "How do I login?\n",
            "['120', '1', 1075]\n",
            "How to Apply for Debit Card?\n",
            "['121', '1', 1203]\n",
            "My debit card was stolen\n",
            "What is AllinCall bank?\n",
            "['123', '1', 1188, 1182]\n",
            "How can I set the PIN of my debit card?\n",
            "['124', '1', 1036]\n",
            "What is my home branch?\n",
            "['125', '1', 1062]\n",
            "How many days will it take for the physical debit card to reach my communication address?\n",
            "['126', '1', 1043]\n",
            "How do I set password for my Net Banking?\n",
            "['129', '1', 1054]\n",
            "How do I set password for my Net Banking?\n",
            "['130', '1', 1054]\n",
            "Where can I See my account details?\n",
            "How to update my name in AllinCall bank account?\n",
            "How to Apply for Debit Card?\n",
            "['131', '1', 1064, 1203, 1157]\n",
            "Why can't I do Video KYC?\n",
            "['132', '1', 1165]\n",
            "Hi\n",
            "['133', '1', 994]\n",
            "How do I login?\n",
            "['134', '1', 1075]\n",
            "['135', '1']\n",
            "How to apply for passbook?\n",
            "['137', '1', 1218]\n",
            "Documents for AllinCall bank\n",
            "What is Full KYC?\n",
            "['139', '1', 1010, 1171]\n",
            "I want to activate my account when will it be activated?\n",
            "['140', '1', 1068]\n",
            "What is my home branch?\n",
            "['141', '1', 1062]\n",
            "My virtual card is blocked and it says it will be available after 2 days\n",
            "['142', '1', 1049]\n",
            "Unhelpful\n",
            "['143', '1', 1219]\n",
            "Unhelpful\n",
            "['144', '1', 1219]\n",
            "How can I check the status of my physical debit card application?\n",
            "['145', '1', 1039]\n",
            "Where can I See my account details?\n",
            "How do I change my Mobile number?\n",
            "['146', '1', 1059, 1157]\n",
            "How to apply for passbook?\n",
            "Why my account is under freeze?\n",
            "['147', '1', 1218, 1069]\n",
            "How to update my name in AllinCall bank account?\n",
            "['148', '1', 1064]\n",
            "How to Apply for Debit Card?\n",
            "['151', '1', 1203]\n",
            "How can I Add money/transfer money to AllinCall bank Account?\n",
            "How do I do fund transfer\n",
            "['152', '1', 1209, 1174]\n",
            "Open AllinCall\n",
            "Can I open investment account and how can I open an investment account through my AllinCall bank bank account?\n",
            "['153', '1', 1169, 1126]\n",
            "How do I login?\n",
            "['154', '1', 1075]\n",
            "Where can I see the CVV number of my AllinCall bank virtual debit card?\n",
            "['155', '1', 1021]\n",
            "Where can I See my account details?\n",
            "['156', '1', 1157]\n",
            "how do I create my UPI/VPA Id\n",
            "['157', '1', 1186]\n",
            "Where can I See my account details?\n",
            "How do I change my Mobile number?\n",
            "['158', '1', 1059, 1157]\n",
            "Why can't I do Video KYC?\n",
            "['159', '1', 1165]\n",
            "Why do I need MPIN?\n",
            "What documents do I need to book an FD?\n",
            "['160', '1', 1105, 1051]\n",
            "How can I open Recurring Deposit?\n",
            "How to apply for chequebook?\n",
            "Why should I book an Fixed Deposit?\n",
            "['161', '1', 1139, 1109, 1175]\n",
            "I want to activate my account when will it be activated?\n",
            "How to apply for chequebook?\n",
            "['162', '1', 1068, 1175]\n"
          ],
          "name": "stdout"
        }
      ]
    },
    {
      "cell_type": "code",
      "metadata": {
        "colab": {
          "base_uri": "https://localhost:8080/"
        },
        "id": "ETOZ9S3mIF1P",
        "outputId": "99a18d67-2b1d-4c43-ae28-c74fe905b184"
      },
      "source": [
        "res_final[50:105]"
      ],
      "execution_count": 186,
      "outputs": [
        {
          "output_type": "execute_result",
          "data": {
            "text/plain": [
              "['50,2',\n",
              " '51,1,1162',\n",
              " '52,1,1178,1047',\n",
              " '53,1,1028,1030,1047',\n",
              " '54,1',\n",
              " '55,1,1203',\n",
              " '56,1',\n",
              " '57,1',\n",
              " '58,1,1068',\n",
              " '59,1,1209,1028,1175',\n",
              " '60,2',\n",
              " '61,1,1169,1126,1081',\n",
              " '62,1',\n",
              " '63,1,1165',\n",
              " '64,1,1134',\n",
              " '65,1,1038,1030,1022',\n",
              " '66,1,1009,1161,995',\n",
              " '67,1,1208,1183',\n",
              " '68,1,1081,999',\n",
              " '69,1,1064,1065',\n",
              " '70,1,1039',\n",
              " '71,1,1153,1086,1081',\n",
              " '72,1,1038,1030',\n",
              " '73,1,1105,1051',\n",
              " '74,1,1180',\n",
              " '75,1,1201',\n",
              " '76,1,1209',\n",
              " '77,496',\n",
              " '78,496',\n",
              " '79,1',\n",
              " '80,2',\n",
              " '81,2',\n",
              " '82,2',\n",
              " '83,1,1172',\n",
              " '84,1,1068',\n",
              " '85,642',\n",
              " '86,1,1059',\n",
              " '87,1,1171',\n",
              " '88,1,1207',\n",
              " '89,1,1154',\n",
              " '90,1,1118',\n",
              " '91,1,1059',\n",
              " '92,1,1169,1188,996',\n",
              " '93,1,1021',\n",
              " '94,1,1018,1203,1086',\n",
              " '95,1,1139,1205',\n",
              " '96,1,1169,1126',\n",
              " '97,1,1039',\n",
              " '98,1',\n",
              " '99,1,1218',\n",
              " '100,1,1075',\n",
              " '101,1,1043',\n",
              " '102,1,1059,1157',\n",
              " '103,1,1139,1109,1175',\n",
              " '104,1,1028,1030,1047']"
            ]
          },
          "metadata": {
            "tags": []
          },
          "execution_count": 186
        }
      ]
    },
    {
      "cell_type": "markdown",
      "metadata": {
        "id": "_vBLTRaIQMzj"
      },
      "source": [
        "We can test some of these :"
      ]
    },
    {
      "cell_type": "code",
      "metadata": {
        "colab": {
          "base_uri": "https://localhost:8080/"
        },
        "id": "qqsguIwOwkl7",
        "outputId": "03cef103-09e3-4042-db7c-5954ee68b3bb"
      },
      "source": [
        "print(test_data['Test user queries'][59])\n",
        "print(df[\"intent\"][1209])\n",
        "print(df[\"intent\"][1028])\n",
        "print(df[\"intent\"][1175])"
      ],
      "execution_count": 170,
      "outputs": [
        {
          "output_type": "stream",
          "text": [
            "Sir mera account opne hogaya hai per main janana chati ho mera account no kya hai or mera check book or dibet cart and credit card or ATM card mujhe kab milega\n",
            "Where can I See my account details?\n",
            "What is the premium amount of Secure One?\n",
            "How can I complete my Full KYC\n"
          ],
          "name": "stdout"
        }
      ]
    },
    {
      "cell_type": "code",
      "metadata": {
        "colab": {
          "base_uri": "https://localhost:8080/"
        },
        "id": "0ssjO8tcwzKQ",
        "outputId": "04c3ab64-5890-44d1-8c35-6e3c0d97bbc4"
      },
      "source": [
        "print(test_data['Test user queries'][104])\n",
        "print(df[\"intent\"][1028])\n",
        "print(df[\"intent\"][1030])\n",
        "print(df[\"intent\"][1047])"
      ],
      "execution_count": 183,
      "outputs": [
        {
          "output_type": "stream",
          "text": [
            "I want ATM debit card\n",
            "What is the premium amount of Secure One?\n",
            "Can I open RD account in my AllinCall bank digital account?\n",
            "How can I open Recurring Deposit?\n"
          ],
          "name": "stdout"
        }
      ]
    },
    {
      "cell_type": "code",
      "metadata": {
        "id": "c7A-aHMyhRox"
      },
      "source": [
        "pd.DataFrame({\"submission\":res_final}).to_csv(\"submission.csv\", index=False)"
      ],
      "execution_count": 173,
      "outputs": []
    }
  ]
}